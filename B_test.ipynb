{
 "cells": [
  {
   "cell_type": "code",
   "execution_count": null,
   "metadata": {},
   "outputs": [],
   "source": [
    "import os\n",
    "import glob"
   ]
  },
  {
   "cell_type": "code",
   "execution_count": null,
   "metadata": {},
   "outputs": [],
   "source": [
    "train_txt_path = \"./data/CAIN_data/train_data.txt\"\n",
    "with open(train_txt_path, 'r') as file:\n",
    "    # 逐行读取文件内容并存储在一个列表中\n",
    "    lines = file.readlines()"
   ]
  },
  {
   "cell_type": "code",
   "execution_count": null,
   "metadata": {},
   "outputs": [],
   "source": [
    "lines = [line.strip() for line in lines]"
   ]
  },
  {
   "cell_type": "code",
   "execution_count": null,
   "metadata": {},
   "outputs": [],
   "source": [
    "mode = 'test'"
   ]
  },
  {
   "cell_type": "code",
   "execution_count": null,
   "metadata": {},
   "outputs": [],
   "source": [
    "data_root = \"./data/CAIN_data/\"\n",
    "if mode == \"train\":\n",
    "    train_txt_path = os.path.join(data_root, \"train_data.txt\")\n",
    "    with open(train_txt_path, 'r') as file:\n",
    "        # 逐行读取文件内容并存储在一个列表中\n",
    "        name_list = file.readlines()\n",
    "    name_list = [line.strip() for line in name_list]\n",
    "elif mode == \"test\":\n",
    "    test_txt_path = os.path.join(data_root, \"test_data.txt\")\n",
    "    with open(test_txt_path, 'r') as file:\n",
    "        # 逐行读取文件内容并存储在一个列表中\n",
    "        name_list = file.readlines()\n",
    "    name_list = [line.strip() for line in name_list]"
   ]
  },
  {
   "cell_type": "code",
   "execution_count": null,
   "metadata": {},
   "outputs": [],
   "source": [
    "imglist = []\n",
    "for l in name_list:\n",
    "    imglist.append(os.path.join(data_root, l))"
   ]
  },
  {
   "cell_type": "code",
   "execution_count": null,
   "metadata": {},
   "outputs": [],
   "source": [
    "imgpaths = imglist[0]\n",
    "imgpaths"
   ]
  },
  {
   "cell_type": "code",
   "execution_count": null,
   "metadata": {},
   "outputs": [],
   "source": [
    "from torchvision import transforms\n",
    "from skimage import io\n",
    "T = transforms.ToTensor()\n",
    "imgs = []\n",
    "for i in range(3):\n",
    "    slice_path = os.path.join(imgpaths, str(i) + \".TIF\")\n",
    "    img = T(io.imread(slice_path))\n",
    "    imgs.append(img)"
   ]
  },
  {
   "cell_type": "code",
   "execution_count": null,
   "metadata": {},
   "outputs": [],
   "source": [
    "len(imgs)"
   ]
  },
  {
   "cell_type": "code",
   "execution_count": null,
   "metadata": {},
   "outputs": [],
   "source": [
    "imgs[0].shape"
   ]
  },
  {
   "cell_type": "code",
   "execution_count": null,
   "metadata": {},
   "outputs": [],
   "source": [
    "from data.Biology import get_loader\n",
    "import torch"
   ]
  },
  {
   "cell_type": "code",
   "execution_count": null,
   "metadata": {},
   "outputs": [],
   "source": [
    "batch_size = 2\n",
    "num_workers = 2\n",
    "data_root = \"./data/CAIN_data/\"\n",
    "train_loader = get_loader('train', data_root, batch_size, shuffle=True, num_workers=num_workers)"
   ]
  },
  {
   "cell_type": "code",
   "execution_count": null,
   "metadata": {},
   "outputs": [],
   "source": [
    "for i, batch in enumerate(train_loader):\n",
    "    break"
   ]
  },
  {
   "cell_type": "code",
   "execution_count": null,
   "metadata": {},
   "outputs": [],
   "source": [
    "im1 = batch[\"img1\"].to(dtype=torch.float32)\n",
    "im2 = batch[\"img2\"].to(dtype=torch.float32)\n",
    "gt = batch[\"img_gt\"].to(dtype=torch.float32)"
   ]
  },
  {
   "cell_type": "code",
   "execution_count": null,
   "metadata": {},
   "outputs": [],
   "source": [
    "mean = im1.mean(2, keepdim=True).mean(3, keepdim=True)\n",
    "im1 -= mean"
   ]
  },
  {
   "cell_type": "code",
   "execution_count": null,
   "metadata": {},
   "outputs": [],
   "source": [
    "mean"
   ]
  },
  {
   "cell_type": "code",
   "execution_count": null,
   "metadata": {},
   "outputs": [],
   "source": [
    "im1"
   ]
  },
  {
   "cell_type": "code",
   "execution_count": 3,
   "metadata": {},
   "outputs": [
    {
     "name": "stdout",
     "output_type": "stream",
     "text": [
      "tensor([[1, 2, 3],\n",
      "        [4, 5, 6],\n",
      "        [1, 2, 3]])\n"
     ]
    }
   ],
   "source": [
    "import torch\n",
    "\n",
    "# 创建两个示例张量\n",
    "tensor1 = torch.tensor([1, 2, 3])\n",
    "tensor2 = torch.tensor([4, 5, 6])\n",
    "\n",
    "# 使用torch.stack()将它们堆叠在一起，创建一个新的维度（dim=0）\n",
    "stacked_tensor = torch.stack((tensor1, tensor2, tensor1), dim=0)\n",
    "\n",
    "# 打印堆叠后的张量\n",
    "print(stacked_tensor)\n"
   ]
  },
  {
   "cell_type": "code",
   "execution_count": 4,
   "metadata": {},
   "outputs": [
    {
     "data": {
      "text/plain": [
       "torch.Size([3, 3])"
      ]
     },
     "execution_count": 4,
     "metadata": {},
     "output_type": "execute_result"
    }
   ],
   "source": [
    "stacked_tensor.shape"
   ]
  },
  {
   "cell_type": "code",
   "execution_count": 8,
   "metadata": {},
   "outputs": [
    {
     "name": "stdout",
     "output_type": "stream",
     "text": [
      "tensor([[1, 2, 3],\n",
      "        [4, 5, 6],\n",
      "        [4, 5, 6]])\n"
     ]
    }
   ],
   "source": [
    "import torch\n",
    "\n",
    "# 创建两个示例张量\n",
    "tensor1 = torch.tensor([[1, 2, 3]])\n",
    "tensor2 = torch.tensor([4, 5, 6])\n",
    "\n",
    "# 使用torch.cat()将它们连接在一起，指定dim=0表示在第0维度（行）上连接\n",
    "combined_tensor = torch.cat((tensor1, tensor2.unsqueeze(0),tensor2.unsqueeze(0)), dim=0)\n",
    "\n",
    "# 打印组合后的张量\n",
    "print(combined_tensor)\n"
   ]
  },
  {
   "cell_type": "code",
   "execution_count": null,
   "metadata": {},
   "outputs": [],
   "source": []
  }
 ],
 "metadata": {
  "kernelspec": {
   "display_name": "CAIN",
   "language": "python",
   "name": "python3"
  },
  "language_info": {
   "codemirror_mode": {
    "name": "ipython",
    "version": 3
   },
   "file_extension": ".py",
   "mimetype": "text/x-python",
   "name": "python",
   "nbconvert_exporter": "python",
   "pygments_lexer": "ipython3",
   "version": "3.8.16"
  },
  "orig_nbformat": 4
 },
 "nbformat": 4,
 "nbformat_minor": 2
}
